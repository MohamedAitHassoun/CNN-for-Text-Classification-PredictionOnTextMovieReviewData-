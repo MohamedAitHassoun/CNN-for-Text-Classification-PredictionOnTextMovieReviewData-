{
 "cells": [
  {
   "cell_type": "markdown",
   "metadata": {},
   "source": [
    "# Data Preparation\n",
    "### Loading and Cleaning Reviews\n",
    "\n",
    "#### Build Functions :"
   ]
  },
  {
   "cell_type": "code",
   "execution_count": 99,
   "metadata": {},
   "outputs": [],
   "source": [
    "from string import punctuation\n",
    "from nltk.corpus import stopwords\n",
    "from os import listdir\n",
    "# load the data :\n",
    "def load_document(file_name):\n",
    "    file = open(file_name, 'r')\n",
    "    text = file.read()\n",
    "    file.close()\n",
    "    return text\n",
    "# preprocessing the data & creating tokens\n",
    "def document_to_tokens(document):\n",
    "    # split the document into words\n",
    "    tokens = document.split()\n",
    "    # remove the punctuation\n",
    "    tokens = [w for w in tokens if w not in punctuation]\n",
    "    # remove the tokens that are not alphabetic\n",
    "    tokens = [w for w in tokens if w.isalpha() == True]\n",
    "    # remove the stop words\n",
    "    tokens = [w for w in tokens if w not in stopwords.words(\"english\")]\n",
    "    # remove tokens that has size less or equal to one\n",
    "    tokens = [w for w in tokens if len(w)>1]\n",
    "    tokens= \" \".join(tokens)\n",
    "    return tokens\n",
    "# load all the documents  \n",
    "def handle_documents(directory , is_train):\n",
    "    documents = []\n",
    "    for file_name in listdir(directory):\n",
    "        if is_train and file_name.startswith(\"cv9\"):\n",
    "            continue\n",
    "        if not is_train and not file_name.startswith(\"cv9\"):\n",
    "            continue\n",
    "        path = directory +\"\\\\\"+file_name\n",
    "        documents.append(document_to_tokens(load_document(path)))\n",
    "    return documents"
   ]
  },
  {
   "cell_type": "markdown",
   "metadata": {},
   "source": [
    "#### Call Functions :\n",
    "\n",
    "\n",
    "### load the entire data"
   ]
  },
  {
   "cell_type": "code",
   "execution_count": 106,
   "metadata": {},
   "outputs": [
    {
     "name": "stdout",
     "output_type": "stream",
     "text": [
      "For the Training : the negative reviews : 100 and the positive reviews : 100\n",
      "For the Testing : the negative reviews : 100 and the positive reviews : 100\n"
     ]
    }
   ],
   "source": [
    "# load the training files\n",
    "pos_docs_train = handle_documents(\"review_polarity\\\\txt_sentoken\\\\pos\",True)\n",
    "neg_docs_train = handle_documents(\"review_polarity\\\\txt_sentoken\\\\neg\",True)\n",
    "print(f\"For the Training : the negative reviews : {len(neg_docs_training)} and the positive reviews : {len(pos_docs_training)}\")\n",
    "# load the testing files\n",
    "pos_docs_test = handle_documents(\"review_polarity\\\\txt_sentoken\\\\pos\",False)\n",
    "neg_docs_test = handle_documents(\"review_polarity\\\\txt_sentoken\\\\neg\",False)\n",
    "print(f\"For the Testing : the negative reviews : {len(neg_docs_training)} and the positive reviews : {len(pos_docs_training)}\")\n"
   ]
  },
  {
   "cell_type": "code",
   "execution_count": 107,
   "metadata": {},
   "outputs": [],
   "source": [
    "train_x = neg_docs_train + pos_docs_train\n",
    "train_y = [0 for _ in range(900)] + [1 for _ in range(900)]\n",
    "\n",
    "test_x = neg_docs_test + pos_docs_test\n",
    "test_y = [0 for _ in range(100)] + [1 for _ in range(100)]\n"
   ]
  }
 ],
 "metadata": {
  "kernelspec": {
   "display_name": "Python 3",
   "language": "python",
   "name": "python3"
  },
  "language_info": {
   "codemirror_mode": {
    "name": "ipython",
    "version": 3
   },
   "file_extension": ".py",
   "mimetype": "text/x-python",
   "name": "python",
   "nbconvert_exporter": "python",
   "pygments_lexer": "ipython3",
   "version": "3.11.2"
  }
 },
 "nbformat": 4,
 "nbformat_minor": 2
}
